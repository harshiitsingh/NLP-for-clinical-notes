{
 "cells": [
  {
   "cell_type": "code",
   "execution_count": null,
   "id": "6f19c073",
   "metadata": {},
   "outputs": [],
   "source": []
  },
  {
   "cell_type": "code",
   "execution_count": 1,
   "id": "8c431932",
   "metadata": {},
   "outputs": [],
   "source": [
    "import pandas as pd\n",
    "import numpy as np\n",
    "import matplotlib.pyplot as plt"
   ]
  },
  {
   "cell_type": "code",
   "execution_count": 2,
   "id": "846659b3",
   "metadata": {},
   "outputs": [
    {
     "data": {
      "text/html": [
       "<div>\n",
       "<style scoped>\n",
       "    .dataframe tbody tr th:only-of-type {\n",
       "        vertical-align: middle;\n",
       "    }\n",
       "\n",
       "    .dataframe tbody tr th {\n",
       "        vertical-align: top;\n",
       "    }\n",
       "\n",
       "    .dataframe thead th {\n",
       "        text-align: right;\n",
       "    }\n",
       "</style>\n",
       "<table border=\"1\" class=\"dataframe\">\n",
       "  <thead>\n",
       "    <tr style=\"text-align: right;\">\n",
       "      <th></th>\n",
       "      <th>medical_specialty</th>\n",
       "      <th>transcription</th>\n",
       "    </tr>\n",
       "  </thead>\n",
       "  <tbody>\n",
       "    <tr>\n",
       "      <th>0</th>\n",
       "      <td>Neurology</td>\n",
       "      <td>CC:, Confusion and slurred speech.,HX , (prima...</td>\n",
       "    </tr>\n",
       "    <tr>\n",
       "      <th>1</th>\n",
       "      <td>Urology</td>\n",
       "      <td>PROCEDURE: , Elective male sterilization via b...</td>\n",
       "    </tr>\n",
       "    <tr>\n",
       "      <th>2</th>\n",
       "      <td>Urology</td>\n",
       "      <td>INDICATION:,  Prostate Cancer.,TECHNIQUE:,  3....</td>\n",
       "    </tr>\n",
       "    <tr>\n",
       "      <th>3</th>\n",
       "      <td>Urology</td>\n",
       "      <td>DESCRIPTION:,  The patient was placed in the s...</td>\n",
       "    </tr>\n",
       "    <tr>\n",
       "      <th>4</th>\n",
       "      <td>Urology</td>\n",
       "      <td>PREOPERATIVE DIAGNOSIS: , Voluntary sterility....</td>\n",
       "    </tr>\n",
       "  </tbody>\n",
       "</table>\n",
       "</div>"
      ],
      "text/plain": [
       "  medical_specialty                                      transcription\n",
       "0         Neurology  CC:, Confusion and slurred speech.,HX , (prima...\n",
       "1           Urology  PROCEDURE: , Elective male sterilization via b...\n",
       "2           Urology  INDICATION:,  Prostate Cancer.,TECHNIQUE:,  3....\n",
       "3           Urology  DESCRIPTION:,  The patient was placed in the s...\n",
       "4           Urology  PREOPERATIVE DIAGNOSIS: , Voluntary sterility...."
      ]
     },
     "execution_count": 2,
     "metadata": {},
     "output_type": "execute_result"
    }
   ],
   "source": [
    "df = pd.read_csv(r\"C:\\Users\\Harshit Singh\\Music\\DSAI\\mtsamplesV2.csv\")\n",
    "df.head()"
   ]
  },
  {
   "cell_type": "code",
   "execution_count": 3,
   "id": "4a8b1623",
   "metadata": {},
   "outputs": [
    {
     "data": {
      "text/plain": [
       "(1239, 2)"
      ]
     },
     "execution_count": 3,
     "metadata": {},
     "output_type": "execute_result"
    }
   ],
   "source": [
    "df.shape"
   ]
  },
  {
   "cell_type": "code",
   "execution_count": 4,
   "id": "99877caf",
   "metadata": {},
   "outputs": [
    {
     "name": "stdout",
     "output_type": "stream",
     "text": [
      "<class 'pandas.core.frame.DataFrame'>\n",
      "RangeIndex: 1239 entries, 0 to 1238\n",
      "Data columns (total 2 columns):\n",
      " #   Column             Non-Null Count  Dtype \n",
      "---  ------             --------------  ----- \n",
      " 0   medical_specialty  1239 non-null   object\n",
      " 1   transcription      1231 non-null   object\n",
      "dtypes: object(2)\n",
      "memory usage: 19.5+ KB\n"
     ]
    }
   ],
   "source": [
    "df.info()"
   ]
  },
  {
   "cell_type": "code",
   "execution_count": 5,
   "id": "44cdbaaa",
   "metadata": {},
   "outputs": [
    {
     "data": {
      "text/plain": [
       "medical_specialty    0\n",
       "transcription        8\n",
       "dtype: int64"
      ]
     },
     "execution_count": 5,
     "metadata": {},
     "output_type": "execute_result"
    }
   ],
   "source": [
    "df.isna().sum()"
   ]
  },
  {
   "cell_type": "code",
   "execution_count": 6,
   "id": "40e29237",
   "metadata": {},
   "outputs": [
    {
     "data": {
      "text/plain": [
       "medical_specialty    0\n",
       "transcription        0\n",
       "dtype: int64"
      ]
     },
     "execution_count": 6,
     "metadata": {},
     "output_type": "execute_result"
    }
   ],
   "source": [
    "new_df = df.dropna()\n",
    "new_df.isna().sum()"
   ]
  },
  {
   "cell_type": "code",
   "execution_count": 7,
   "id": "e79a22ff",
   "metadata": {},
   "outputs": [
    {
     "data": {
      "text/plain": [
       "array([' Neurology', ' Urology', ' Radiology', ' Orthopedic',\n",
       "       ' Gastroenterology'], dtype=object)"
      ]
     },
     "execution_count": 7,
     "metadata": {},
     "output_type": "execute_result"
    }
   ],
   "source": [
    "new_df['medical_specialty'].unique()"
   ]
  },
  {
   "cell_type": "code",
   "execution_count": 8,
   "id": "1e5a27f1",
   "metadata": {},
   "outputs": [
    {
     "data": {
      "text/plain": [
       " Orthopedic          355\n",
       " Radiology           273\n",
       " Gastroenterology    224\n",
       " Neurology           223\n",
       " Urology             156\n",
       "Name: medical_specialty, dtype: int64"
      ]
     },
     "execution_count": 8,
     "metadata": {},
     "output_type": "execute_result"
    }
   ],
   "source": [
    "new_df['medical_specialty'].value_counts()"
   ]
  },
  {
   "cell_type": "markdown",
   "id": "8590f624",
   "metadata": {},
   "source": [
    "## Text Preprocessing and Cleaning"
   ]
  },
  {
   "cell_type": "code",
   "execution_count": 12,
   "id": "71e3a974",
   "metadata": {},
   "outputs": [
    {
     "name": "stdout",
     "output_type": "stream",
     "text": [
      "Sample transcription 1:PREOPERATIVE DIAGNOSIS: , Voluntary sterility.,POSTOPERATIVE DIAGNOSIS: , Voluntary sterility.,OPERATIVE PROCEDURE:,  Bilateral vasectomy.,ANESTHESIA:,  Local.,INDICATIONS FOR PROCEDURE:  ,A gentleman who is here today requesting voluntary sterility.  Options were discussed for voluntary sterility and he has elected to proceed with a bilateral vasectomy.,DESCRIPTION OF PROCEDURE:  ,The patient was brought to the operating room, and after appropriately identifying the patient, the patient was prepped and draped in the standard surgical fashion and placed in a supine position on the OR table.  Then, 0.25% Marcaine without epinephrine was used to anesthetize the scrotal skin.  A small incision was made in the right hemiscrotum.  The vas deferens was grasped with a vas clamp.  Next, the vas deferens was skeletonized.  It was clipped proximally and distally twice.  The cut edges were fulgurated.  Meticulous hemostasis was maintained.  Then, 4-0 chromic was used to close the scrotal skin on the right hemiscrotum.  Next, the attention was turned to the left hemiscrotum, and after the left hemiscrotum was anesthetized appropriately, a small incision was made in the left hemiscrotum.  The vas deferens was isolated.  It was skeletonized.  It was clipped proximally and distally twice.  The cut edges were fulgurated.  Meticulous hemostasis was maintained.  Then, 4-0 chromic was used to close the scrotal skin.  A jockstrap and sterile dressing were applied at the end of the case.  Sponge, needle, and instruments counts were correct.\n",
      "\n",
      "Sample transcription 2:PROCEDURE PERFORMED: , Umbilical hernia repair.,PROCEDURE:,  After informed consent was obtained, the patient was brought to the operative suite and placed supine on the operating table.  The patient was sedated, and an adequate local anesthetic was administered using 1% lidocaine without epinephrine.  The patient was prepped and draped in the usual sterile manner.,A standard curvilinear umbilical incision was made, and dissection was carried down to the hernia sac using a combination of Metzenbaum scissors and Bovie electrocautery.  The sac was cleared of overlying adherent tissue, and the fascial defect was delineated.  The fascia was cleared of any adherent tissue for a distance of 1.5 cm from the defect.  The sac was then placed into the abdominal cavity and the defect was closed primarily using simple interrupted 0 Vicryl sutures.  The umbilicus was then re-formed using 4-0 Vicryl to tack the umbilical skin to the fascia.,The wound was then irrigated using sterile saline, and hemostasis was obtained using Bovie electrocautery.  The skin was approximated with 4-0 Vicryl in a subcuticular fashion.  The skin was prepped with benzoin, and Steri-Strips were applied.  A dressing was then applied.  All surgical counts were reported as correct.,Having tolerated the procedure well, the patient was subsequently taken to the recovery room in good and stable condition.\n",
      "\n"
     ]
    }
   ],
   "source": [
    "print('Sample transcription 1:'+df.iloc[4]['transcription']+'\\n')\n",
    "print('Sample transcription 2:'+df.iloc[14]['transcription']+'\\n')"
   ]
  },
  {
   "cell_type": "code",
   "execution_count": 13,
   "id": "f44d2734",
   "metadata": {},
   "outputs": [],
   "source": [
    "## Import Required Libraries\n",
    "import pandas as pd\n",
    "import numpy as np\n",
    "import matplotlib.pyplot as plt\n",
    "import seaborn as sns\n",
    "import string\n",
    "import re\n",
    "from sklearn.feature_extraction.text import TfidfVectorizer\n",
    "from sklearn.decomposition import PCA\n",
    "from sklearn.linear_model import LogisticRegression\n",
    "from sklearn.model_selection import train_test_split\n",
    "\n",
    "from sklearn.metrics import confusion_matrix\n",
    "from sklearn.metrics import classification_report\n",
    "from sklearn.manifold import TSNE\n",
    "\n",
    "from nltk.tokenize import word_tokenize\n",
    "from nltk.tokenize import sent_tokenize\n",
    "from nltk.stem import WordNetLemmatizer \n",
    "\n",
    "# from imblearn.over_sampling import SMOTE\n",
    "\n",
    "special_character_remover = re.compile('[/(){}\\[\\]\\|@,;]')\n",
    "extra_symbol_remover = re.compile('[^0-9a-z #+_]')\n",
    "STOPWORDS = set(stopwords.words('english'))"
   ]
  },
  {
   "cell_type": "code",
   "execution_count": 14,
   "id": "d2fb593b",
   "metadata": {},
   "outputs": [],
   "source": [
    "def clean_text(text):\n",
    "    text = str(text)\n",
    "    text = re.sub(r'\\d+', '', text) # Remove numbers\n",
    "    text = text.lower()\n",
    "    text = special_character_remover.sub(' ',text)\n",
    "    text = extra_symbol_remover.sub('',text)\n",
    "    text = ' '.join(word for word in text.split() if word not in STOPWORDS)\n",
    "    return text\n",
    "\n",
    "def lemmatize_text(text):\n",
    "    wordlist=[]\n",
    "    lemmatizer = WordNetLemmatizer() \n",
    "    sentences=sent_tokenize(text)\n",
    "    \n",
    "    for sentence in sentences:\n",
    "        words=word_tokenize(sentence)\n",
    "        for word in words:\n",
    "            wordlist.append(lemmatizer.lemmatize(word))    \n",
    "    return ' '.join(wordlist) "
   ]
  },
  {
   "cell_type": "code",
   "execution_count": 15,
   "id": "208a1dd1",
   "metadata": {},
   "outputs": [],
   "source": [
    "df['transcription'] = df['transcription'].apply(clean_text)\n",
    "df['transcription'] = df['transcription'].apply(lemmatize_text)"
   ]
  },
  {
   "cell_type": "code",
   "execution_count": 16,
   "id": "66944ffc",
   "metadata": {},
   "outputs": [
    {
     "name": "stdout",
     "output_type": "stream",
     "text": [
      "Sample Transcription 1:chief complaint\n",
      "\n",
      "Sample Transcription 2:preoperative diagnosis benign prostatic hypertrophy urinary retention postoperative diagnosis benign prostatic hypertrophy urinary retention procedure performed cystourethroscopy transurethral resection prostate turp anesthesia spinal drain # french threeway foley catheter specimen prostatic resection chip estimated blood loss cc disposition patient transferred pacu stable condition indication finding yearold male history bph subsequent urinary retention failure trial void scheduled elective turp procedure finding time surgery cystourethroscopy revealed trilobar enlargement prostate prostatic varix median lobe cystoscopy showed cellules bladder obvious bladder tumor noted description procedure informed consent obtained patient moved operating room spinal anesthesia induced department anesthesia patient prepped draped normal sterile fashion # french cystoscope inserted urethra bladder cystoscopy performed finding cystoscope removed # french resectoscope # cutting loop inserted bladder verumontanum identified landmark systematic transurethral resection prostate tissue undertaken circumferential fashion good resection tissue completed ________ irrigator used evacuate bladder prostatic chip resectoscope inserted residual chip removed piecemeal fashion resectoscope loop obvious bleeding prostatic fossa controlled electrocautery resectoscope removed # french threeway foley catheter inserted urethra bladder bladder irrigated connected threeway irrigation patient cleaned sent recovery stable condition admitted overnight continuous bladder irrigation postop monitoring\n",
      "\n",
      "Sample Transcription 3:cc right sided numbness hx male presented month history progressive right sided numbness anesthetic pain addition experienced worsening balance episode aspiration eating pmh born prematurely weighed # oz multiple episode aspiration pneumonia infant child asd repair age left ptosis repair age scoliosis gait abnormality poor pharyngeal reflex shx fhx mainstream high school education mental retardation ambulatory work cardboard shop disabled exam short stature head tilt right cn left ptosis decreased left nasolabial fold decreased gag reflex bilaterally motor full strength sensory marked hypesthesia entire right side coord slowed ram left station drift gait nd reflex + throughout babinski sign bilaterally beat ankle clonus right beat ankle clonus left mri arnold chiari ii syrinx severe basilar invagination marked compression ventral pontomedullary junction downward descension cerebellar tonsil vermis course patient underwent transpalatal pharyngeal ventral decompression pons medulla resection clivus odontoid tracheostomy placement halo vest ring removed month later philadelphia collar removed last seen mildly spastic gait good strength hyperreflexia throughout gag response returned eating without difficulty sensation returned extremity\n"
     ]
    }
   ],
   "source": [
    "print('Sample Transcription 1:'+df.iloc[5]['transcription']+'\\n')\n",
    "print('Sample Transcription 2:'+df.iloc[125]['transcription']+'\\n')\n",
    "print('Sample Transcription 3:'+df.iloc[1000]['transcription'])"
   ]
  },
  {
   "cell_type": "code",
   "execution_count": 43,
   "id": "47209f25",
   "metadata": {},
   "outputs": [
    {
     "name": "stdout",
     "output_type": "stream",
     "text": [
      "['abc', 'abcd', 'abdomen', 'abdominal', 'abdominal pain', 'able', 'abnormal', 'abnormality', 'achieved', 'active', 'activity', 'acute', 'addition', 'additional', 'adequate', 'adhesion', 'administered', 'admission', 'admitted', 'advanced', 'age', 'ago', 'air', 'alcohol', 'alert', 'alert oriented', 'alignment', 'allergy', 'alternative', 'amplitude', 'anesthesia', 'anesthesia general', 'anesthetic', 'aneurysm', 'ankle', 'annular', 'anterior', 'anterior cervical', 'antibiotic', 'aortic', 'ap', 'apparent', 'appear', 'appearance', 'appeared', 'appears', 'appendix', 'applied', 'applied patient', 'appropriate', 'approximated', 'approximately', 'approximately cm', 'area', 'arm', 'artery', 'aspect', 'aspiration', 'assessment', 'associated', 'atrophy', 'attachment', 'attention', 'attention directed', 'axial', 'base', 'based', 'bed', 'began', 'benefit', 'benign', 'better', 'biceps', 'bid', 'bilateral', 'bilaterally', 'biopsy', 'bipolar', 'bladder', 'blade', 'ble', 'bleeding', 'block', 'blood', 'blood loss', 'blood pressure', 'blunt', 'body', 'bone', 'bony', 'bovie', 'bowel', 'bp', 'bp hr', 'bp hr rr', 'brain', 'branch', 'breath', 'brought', 'brought operating', 'brought operating room', 'bue', 'bulging', 'calcification', 'canal', 'cancer', 'capsular', 'capsule', 'cardiac', 'care', 'care taken', 'carefully', 'carotid', 'carotid artery', 'carpal', 'carpal ligament', 'carpal tunnel', 'carried', 'case', 'catheter', 'cautery', 'cavity', 'cbc', 'cc', 'cc cc', 'cecum', 'cell', 'cement', 'central', 'central canal', 'cerebral', 'cervical', 'cervical spine', 'change', 'chest', 'chest pain', 'chief', 'chief complaint', 'child', 'chronic', 'clamp', 'clear', 'clinic', 'clinical', 'close', 'closed', 'closure', 'cm', 'cn', 'collateral', 'colon', 'colonoscopy', 'common', 'compartment', 'complaint', 'complete', 'completed', 'completely', 'complex', 'complication', 'component', 'compression', 'condition', 'conduction', 'confirmed', 'consent', 'consent obtained', 'consistent', 'continue', 'continued', 'contrast', 'control', 'coord', 'copious', 'copiously', 'copiously irrigated', 'cord', 'coronal', 'coronary', 'correct', 'coumadin', 'count', 'course', 'cranial', 'created', 'csf', 'ct', 'ct scan', 'cuff', 'culture', 'current', 'currently', 'cut', 'cyst', 'cystic', 'daily', 'day', 'decompression', 'decreased', 'deep', 'defect', 'deficit', 'deformity', 'degenerative', 'degenerative change', 'degree', 'demonstrated', 'demonstrates', 'denied', 'denies', 'department', 'described', 'description', 'description procedure', 'developed', 'diabetes', 'diagnosed', 'diagnosis', 'diagnosis left', 'diagnosis right', 'diagnostic', 'diarrhea', 'died', 'diet', 'difficult', 'difficulty', 'diffuse', 'digit', 'direct', 'directed', 'disc', 'disc space', 'discectomy', 'discharge', 'discharged', 'discharged home', 'discussed', 'discussed patient', 'disease', 'disk', 'dissected', 'dissection', 'dissection carried', 'distal', 'distally', 'distress', 'divided', 'dorsal', 'dose', 'dr', 'drain', 'draped', 'draped usual', 'draped usual sterile', 'dressing', 'dressing applied', 'drift', 'drill', 'drug', 'drug use', 'dry', 'duct', 'dysarthria', 'easily', 'edema', 'edge', 'eeg', 'effect', 'effusion', 'ekg', 'elbow', 'electrocautery', 'elevated', 'emergency', 'emergency room', 'emg', 'end', 'endoscopy', 'endotracheal', 'enlarged', 'entered', 'entire', 'epidural', 'episode', 'esophageal', 'esophagus', 'estimated', 'estimated blood', 'estimated blood loss', 'etoh', 'evaluated', 'evaluation', 'event', 'evidence', 'exam', 'exam bp', 'exam bp hr', 'exam unremarkable', 'examination', 'excellent', 'experienced', 'explained', 'exposed', 'exposure', 'extended', 'extending', 'extension', 'extensive', 'extensor', 'external', 'extremity', 'extremity prepped', 'extremity prepped draped', 'eye', 'face', 'facet', 'facial', 'fall', 'family', 'family history', 'fascia', 'fashion', 'fat', 'father', 'feel', 'felt', 'female', 'femoral', 'femur', 'fetal', 'fever', 'fhx', 'field', 'fifth', 'finding', 'finger', 'fixation', 'flap', 'flexion', 'flexor', 'floor', 'flow', 'fluid', 'focal', 'foley', 'foley catheter', 'follow', 'followed', 'following', 'followup', 'foot', 'foramen', 'foraminal', 'fracture', 'fragment', 'free', 'french', 'frontal', 'function', 'fusion', 'gait', 'gallbladder', 'gen', 'gen exam', 'general', 'general anesthesia', 'general endotracheal', 'given', 'glucose', 'going', 'good', 'grade', 'graft', 'greater', 'gross', 'grossly', 'guide', 'hand', 'hardware', 'hct', 'head', 'headache', 'heart', 'heart rate', 'heent', 'height', 'help', 'hematoma', 'hemorrhage', 'hemostasis', 'hernia', 'high', 'hip', 'history', 'history patient', 'history present', 'history present illness', 'hole', 'home', 'hospital', 'hour', 'hr', 'hr rr', 'hx', 'hypertension', 'identified', 'illicit', 'illicit drug', 'illness', 'illness patient', 'image', 'imaging', 'immediately', 'impression', 'improved', 'inch', 'incised', 'incision', 'include', 'including', 'incontinence', 'increased', 'indication', 'infection', 'inferior', 'inflated', 'informed', 'informed consent', 'informed consent obtained', 'inguinal', 'initial', 'initially', 'injected', 'injection', 'injury', 'inserted', 'insertion', 'inspected', 'instrument', 'intact', 'internal', 'interrupted', 'interval', 'intraoperative', 'introduced', 'involving', 'irrigated', 'irrigation', 'iv', 'joint', 'junction', 'kidney', 'knee', 'known', 'laboratory', 'laparoscopic', 'large', 'later', 'lateral', 'lateral aspect', 'laterally', 'layer', 'le', 'left', 'left foot', 'left knee', 'left lower', 'left upper', 'leg', 'length', 'lesion', 'level', 'lidocaine', 'life', 'ligament', 'light', 'like', 'likely', 'limit', 'limited', 'line', 'liver', 'lobe', 'local', 'long', 'longitudinal', 'longus', 'loss', 'low', 'lower', 'lower extremity', 'lumbar', 'lumbar spine', 'lung', 'lymph', 'lymph node', 'make', 'male', 'management', 'manner', 'marcaine', 'marked', 'mass', 'material', 'matter', 'measure', 'measuring', 'med', 'medial', 'medial lateral', 'medially', 'median', 'medical', 'medical history', 'medication', 'memory', 'meniscus', 'metatarsal', 'mg', 'mg bid', 'mg po', 'mg qd', 'mid', 'middle', 'midline', 'mild', 'mildly', 'minimal', 'minute', 'ml', 'mm', 'mmhg', 'moderate', 'monocryl', 'month', 'morning', 'mother', 'motion', 'motor', 'motor strength', 'movement', 'mri', 'mri brain', 'mucosa', 'multiple', 'murmur', 'muscle', 'narrowing', 'nausea', 'nausea vomiting', 'near', 'neck', 'neck pain', 'need', 'needed', 'needle', 'negative', 'nerve', 'nerve root', 'neural', 'neurologic', 'neurological', 'neuropathy', 'new', 'night', 'node', 'normal', 'normal limit', 'note', 'noted', 'number', 'numbness', 'nylon', 'oblique', 'obstruction', 'obtained', 'obtained patient', 'occasional', 'office', 'old', 'onset', 'open', 'opened', 'opening', 'operating', 'operating room', 'operating room placed', 'operating table', 'operation', 'operative', 'option', 'oral', 'order', 'oriented', 'osteophyte', 'osteotomy', 'pain', 'parent', 'partial', 'passed', 'past', 'past medical', 'past medical history', 'patella', 'patellar', 'patent', 'pathology', 'patient brought', 'patient brought operating', 'patient given', 'patient placed', 'patient state', 'patient taken', 'patient taken operating', 'patient tolerated', 'patient tolerated procedure', 'patient yearold', 'pedicle', 'pelvic', 'pelvis', 'penis', 'perform', 'performed', 'person', 'person place', 'person place time', 'phalanx', 'physical', 'physical examination', 'physical therapy', 'physician', 'pin', 'place', 'place time', 'placed', 'placed supine', 'placed supine position', 'placement', 'plain', 'plan', 'plantar', 'plate', 'pleasant', 'pmh', 'po', 'point', 'polyp', 'port', 'portal', 'portion', 'position', 'positioned', 'positive', 'possible', 'post', 'posterior', 'postoperative', 'postoperative diagnosis', 'potential', 'pound', 'pp', 'preoperative', 'preoperative diagnosis', 'prepped', 'prepped draped', 'prepped draped usual', 'present', 'present illness', 'present illness patient', 'presentation', 'presented', 'pressure', 'previous', 'previously', 'primary', 'prior', 'prior presentation', 'prn', 'probably', 'problem', 'procedure', 'procedure patient', 'procedure patient brought', 'procedure patient taken', 'procedure performed', 'proceed', 'process', 'progressive', 'prominent', 'pronator', 'proper', 'prostate', 'protein', 'protrusion', 'proximal', 'proximal phalanx', 'proximally', 'pt', 'ptt', 'pulmonary', 'pulse', 'pupil', 'qd', 'quadrant', 'question', 'quite', 'radial', 'radiation', 'radiculopathy', 'range', 'range motion', 'rate', 'reapproximated', 'reason', 'reason exam', 'received', 'recent', 'recently', 'recommendation', 'recommended', 'recovery', 'recovery room', 'recovery room stable', 'rectal', 'rectum', 'recurrent', 'reduced', 'reduction', 'referred', 'reflected', 'reflex', 'reflux', 'region', 'regular', 'release', 'released', 'remained', 'remaining', 'removal', 'remove', 'removed', 'renal', 'repair', 'repeat', 'report', 'reported', 'resected', 'resection', 'residual', 'resolved', 'response', 'rest', 'result', 'retracted', 'retractor', 'return', 'returned', 'revealed', 'reveals', 'review', 'reviewed', 'rhythm', 'right', 'right foot', 'right knee', 'right lower', 'right upper', 'ring', 'risk', 'risk benefit', 'room', 'room placed', 'room stable', 'room stable condition', 'root', 'rotation', 'rotator', 'rotator cuff', 'rr', 'running', 'sac', 'sagittal', 'saline', 'satisfactory', 'saw', 'scan', 'scar', 'scissors', 'scope', 'screw', 'screw placed', 'scrotal', 'second', 'secondary', 'secured', 'sedation', 'seen', 'seizure', 'sensation', 'sensory', 'sent', 'series', 'series image', 'severe', 'sharp', 'sheath', 'short', 'shoulder', 'showed', 'shx', 'sigmoid', 'sign', 'signal', 'significant', 'silk', 'similar', 'simple', 'sinus', 'site', 'size', 'skin', 'skin closed', 'skin incision', 'sleep', 'slightly', 'small', 'social', 'social history', 'soft', 'soft tissue', 'solution', 'sound', 'space', 'specimen', 'speech', 'spinal', 'spinal cord', 'spine', 'spondylosis', 'sponge', 'stable', 'stable condition', 'standard', 'staple', 'started', 'state', 'station', 'status', 'status post', 'stenosis', 'stent', 'sterile', 'sterile dressing', 'sterile dressing applied', 'sterile fashion', 'steristrips', 'stimulation', 'stitch', 'stomach', 'stone', 'stool', 'straight', 'strength', 'stress', 'stroke', 'structure', 'study', 'subcutaneous', 'subcutaneous tissue', 'subcuticular', 'subsequently', 'suite', 'superficial', 'superior', 'supine', 'supine position', 'surface', 'surgery', 'surgical', 'surrounding', 'suture', 'swelling', 'symmetric', 'symptom', 'syndrome', 'table', 'taken', 'taken operating', 'taken operating room', 'taken recovery', 'taking', 'tear', 'technique', 'temperature', 'temporal', 'tenderness', 'tendon', 'test', 'testing', 'testis', 'therapy', 'thickening', 'thoracic', 'thought', 'tibia', 'tibial', 'time', 'tip', 'tissue', 'tobacco', 'today', 'toe', 'told', 'tolerated', 'tolerated procedure', 'tone', 'total', 'tourniquet', 'transferred', 'transverse', 'transverse carpal', 'transverse carpal ligament', 'treated', 'treatment', 'trial', 'trocar', 'tube', 'tumor', 'tunnel', 'turned', 'type', 'uihc', 'ulnar', 'ultrasound', 'unable', 'underwent', 'unit', 'unremarkable', 'upper', 'upper extremity', 'ureter', 'ureteral', 'urethra', 'urinary', 'urine', 'use', 'used', 'using', 'using vicryl', 'usual', 'usual sterile', 'usual sterile fashion', 'utilized', 'utilizing', 'valve', 'vascular', 'vein', 'velocity', 'venous', 'ventricle', 'ventricular', 'versus', 'vertebral', 'vertebral body', 'vessel', 'vicryl', 'vicryl suture', 'view', 'vision', 'visit', 'visual', 'visualization', 'visualized', 'vital', 'vital sign', 'volume', 'vomiting', 'walk', 'walking', 'wall', 'way', 'wbc', 'weakness', 'week', 'weight', 'went', 'white', 'wire', 'work', 'worse', 'wound', 'wrist', 'xray', 'xrays', 'xyz', 'year', 'year ago', 'yearold', 'yearold female', 'yearold male']\n"
     ]
    },
    {
     "name": "stderr",
     "output_type": "stream",
     "text": [
      "C:\\ProgramData\\Anaconda3\\lib\\site-packages\\sklearn\\utils\\deprecation.py:87: FutureWarning: Function get_feature_names is deprecated; get_feature_names is deprecated in 1.0 and will be removed in 1.2. Please use get_feature_names_out instead.\n",
      "  warnings.warn(msg, category=FutureWarning)\n"
     ]
    }
   ],
   "source": [
    "vectorizer = TfidfVectorizer(analyzer='word', stop_words='english',ngram_range=(1,3), max_df=0.75, use_idf=True, smooth_idf=True, max_features=1000)\n",
    "tfIdfMat  = vectorizer.fit_transform(df['transcription'].tolist() )\n",
    "feature_names = sorted(vectorizer.get_feature_names())\n",
    "print(feature_names)"
   ]
  },
  {
   "cell_type": "code",
   "execution_count": 46,
   "id": "2407d1d1",
   "metadata": {},
   "outputs": [],
   "source": [
    "pca = PCA(n_components=0.95)\n",
    "tfIdfMat_reduced = pca.fit_transform(tfIdfMat.toarray())\n",
    "labels = df['medical_specialty'].tolist()\n",
    "category_list = df.medical_specialty.unique()\n",
    "X_train, X_test, y_train, y_test = train_test_split(tfIdfMat_reduced, labels, stratify=labels,random_state=1)   "
   ]
  },
  {
   "cell_type": "code",
   "execution_count": 47,
   "id": "132f6ccf",
   "metadata": {},
   "outputs": [
    {
     "name": "stdout",
     "output_type": "stream",
     "text": [
      "Train_Set_Size:(929, 462)\n",
      "Test_Set_Size:(310, 462)\n"
     ]
    }
   ],
   "source": [
    "print('Train_Set_Size:'+str(X_train.shape))\n",
    "print('Test_Set_Size:'+str(X_test.shape))"
   ]
  },
  {
   "cell_type": "code",
   "execution_count": 54,
   "id": "5f9e93ad",
   "metadata": {},
   "outputs": [],
   "source": [
    "clf = LogisticRegression(penalty= 'elasticnet', solver= 'saga', l1_ratio=0.5, random_state=1).fit(X_train, y_train)\n",
    "y_test_pred= clf.predict(X_test)\n",
    "# y_test_pred"
   ]
  },
  {
   "cell_type": "code",
   "execution_count": 56,
   "id": "0a489d48",
   "metadata": {},
   "outputs": [
    {
     "data": {
      "text/plain": [
       "0.7483870967741936"
      ]
     },
     "execution_count": 56,
     "metadata": {},
     "output_type": "execute_result"
    }
   ],
   "source": [
    "from sklearn.metrics import accuracy_score\n",
    "accuracy_score(y_test, y_test_pred)"
   ]
  },
  {
   "cell_type": "code",
   "execution_count": 50,
   "id": "29f7f8eb",
   "metadata": {},
   "outputs": [
    {
     "name": "stdout",
     "output_type": "stream",
     "text": [
      "                   precision    recall  f1-score   support\n",
      "\n",
      "        Neurology       0.61      0.59      0.60        56\n",
      "          Urology       0.94      0.74      0.83        39\n",
      "        Radiology       0.59      0.65      0.62        68\n",
      "       Orthopedic       0.82      0.91      0.86        89\n",
      " Gastroenterology       0.87      0.78      0.82        58\n",
      "\n",
      "         accuracy                           0.75       310\n",
      "        macro avg       0.76      0.73      0.75       310\n",
      "     weighted avg       0.76      0.75      0.75       310\n",
      "\n"
     ]
    }
   ],
   "source": [
    "print(classification_report(y_test,y_test_pred,labels=category_list))"
   ]
  },
  {
   "cell_type": "code",
   "execution_count": 52,
   "id": "70646b50",
   "metadata": {},
   "outputs": [
    {
     "data": {
      "text/plain": [
       "array([[45,  1,  1, 10,  1],\n",
       "       [ 0, 33,  7, 16,  0],\n",
       "       [ 0,  5, 81,  3,  0],\n",
       "       [ 1, 12, 10, 44,  1],\n",
       "       [ 6,  3,  0,  1, 29]], dtype=int64)"
      ]
     },
     "execution_count": 52,
     "metadata": {},
     "output_type": "execute_result"
    }
   ],
   "source": [
    "labels = category_list\n",
    "cm = confusion_matrix(y_test, y_test_pred)\n",
    "cm"
   ]
  },
  {
   "cell_type": "code",
   "execution_count": 9,
   "id": "2c4426a3",
   "metadata": {},
   "outputs": [],
   "source": [
    "#import required libraries\n",
    "import pandas as pd\n",
    "import random\n",
    "import re\n",
    "import string\n",
    "import nltk\n",
    "from nltk.corpus import stopwords  # removing all the stop words\n",
    "from nltk.stem.wordnet import WordNetLemmatizer\n",
    "# nltk.download('punkt')\n",
    "# nltk.download('wordnet')\n",
    "from sklearn.feature_extraction.text import CountVectorizer\n",
    "from nltk.corpus import stopwords\n",
    "from sklearn.naive_bayes import MultinomialNB\n",
    "from sklearn.model_selection import RepeatedStratifiedKFold\n",
    "from sklearn.model_selection import cross_val_score"
   ]
  },
  {
   "cell_type": "code",
   "execution_count": 10,
   "id": "5220410b",
   "metadata": {},
   "outputs": [],
   "source": [
    "X= df['transcription']\n",
    "y= df['medical_specialty']"
   ]
  },
  {
   "cell_type": "code",
   "execution_count": 33,
   "id": "185b45c8",
   "metadata": {},
   "outputs": [],
   "source": [
    "corpus = []  ##  Empty corpus list, can be used to store all the text after cleaning.\n",
    "for i in range(len(X)):\n",
    "    '''Make text lowercase, remove text in square brackets,remove links,remove punctuation\n",
    "    and remove words containing numbers.'''\n",
    "    text = re.sub('[^a-zA-Z]', ' ', str(X.iloc[i]))\n",
    "    text = re.sub(r'\\d+', '', text) # Remove numbers\n",
    "    text = re.sub('\\[.*?\\]', '', text)\n",
    "    text = \" \".join(text.split()) # Remove whitespaces\n",
    "    text = text.lower()\n",
    "    text = text.split()\n",
    "    \n",
    "    all_stopwords = stopwords.words('english')\n",
    "    text = [y for y in text if y not in all_stopwords]\n",
    "    \n",
    "    # Stemming\n",
    "    # ps = PorterStemmer()\n",
    "    # review = [ps.stem(word) for word in review if not word in set(all_stopwords)]\n",
    "\n",
    "    # Lemmatization\n",
    "    lemmatizer = WordNetLemmatizer()\n",
    "    text = [lemmatizer.lemmatize(word) for word in text if word not in set(all_stopwords)]\n",
    "\n",
    "\n",
    "    text = ' '.join(text)\n",
    "    corpus.append(text)"
   ]
  },
  {
   "cell_type": "code",
   "execution_count": null,
   "id": "e9bf37b2",
   "metadata": {},
   "outputs": [],
   "source": [
    "# clean_text function shown below preprocess the text data provided.\n",
    "def clean_text(text):\n",
    "    text = str(text)\n",
    "    # lower text \n",
    "    text = text.lower()\n",
    "    #removing stop words\n",
    "    text = ' '.join([e_words for e_words in text.split(' ') if e_words not in stopwords.words('english')])\n",
    "    #removing square brackets\n",
    "    text=re.sub('[.*?]', '', text)\n",
    "    text=re.sub('+', '', text)\n",
    "    #removing hyperlink\n",
    "    text= re.sub('https?://S+|www.S+', '', text)\n",
    "    #removing puncuation\n",
    "    text=re.sub('[%s]' % re.escape(string.punctuation), '', text)\n",
    "    text = re.sub('n' , '', text)\n",
    "    #remove words containing numbers\n",
    "    text=re.sub('w*dw*' , '', text)\n",
    "    #tokenizer\n",
    "    text = nltk.word_tokenize(text)\n",
    "    #lemmatizer\n",
    "    wn = nltk.WordNetLemmatizer()\n",
    "    text = [wn.lemmatize(word) for word in text]\n",
    "    text = \" \".join(text)\n",
    "    return text\n",
    "\n",
    "new_df[\"transcription\"]= new_df[\"transcription\"].apply(clean_text)"
   ]
  },
  {
   "cell_type": "code",
   "execution_count": 17,
   "id": "89c64b17",
   "metadata": {},
   "outputs": [
    {
     "data": {
      "text/plain": [
       "(1239, 13593)"
      ]
     },
     "execution_count": 17,
     "metadata": {},
     "output_type": "execute_result"
    }
   ],
   "source": [
    "# In Machine learning algorithms mostly take numeric feature vectors as input. \n",
    "# Thus, when working with text data, need to convert each document into a numeric vector using CountVectorizer.\n",
    "\n",
    "count_vectorizer = CountVectorizer()\n",
    "\n",
    "train_vectors_counts = count_vectorizer.fit_transform(df[\"transcription\"])\n",
    "\n",
    "train_vectors_counts.shape"
   ]
  },
  {
   "cell_type": "code",
   "execution_count": 19,
   "id": "7d76e00b",
   "metadata": {},
   "outputs": [
    {
     "name": "stdout",
     "output_type": "stream",
     "text": [
      "Mean Accuracy: 0.72\n"
     ]
    }
   ],
   "source": [
    "# Fitting a simple Multinomial Naive Bayes model\n",
    "mnb = MultinomialNB()\n",
    "cv = RepeatedStratifiedKFold(n_splits=5, n_repeats=3, random_state=1)\n",
    "print(\"Mean Accuracy: {:.2}\".format(cross_val_score(mnb, train_vectors_counts, df[\"medical_specialty\"], cv=cv).mean()))"
   ]
  }
 ],
 "metadata": {
  "kernelspec": {
   "display_name": "Python 3 (ipykernel)",
   "language": "python",
   "name": "python3"
  },
  "language_info": {
   "codemirror_mode": {
    "name": "ipython",
    "version": 3
   },
   "file_extension": ".py",
   "mimetype": "text/x-python",
   "name": "python",
   "nbconvert_exporter": "python",
   "pygments_lexer": "ipython3",
   "version": "3.8.11"
  }
 },
 "nbformat": 4,
 "nbformat_minor": 5
}
