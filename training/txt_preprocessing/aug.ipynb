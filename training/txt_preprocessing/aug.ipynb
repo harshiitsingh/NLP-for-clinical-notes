{
 "cells": [
  {
   "cell_type": "code",
   "execution_count": 42,
   "metadata": {},
   "outputs": [],
   "source": [
    "import pandas as pd\n",
    "import numpy as np\n",
    "import os\n",
    "\n",
    "# Path to the folder with the original data\n",
    "train_csv_path = \"./train_before_aug.csv\""
   ]
  },
  {
   "cell_type": "code",
   "execution_count": 44,
   "metadata": {},
   "outputs": [
    {
     "name": "stdout",
     "output_type": "stream",
     "text": [
      "(991, 3)\n"
     ]
    },
    {
     "data": {
      "text/html": [
       "<div>\n",
       "<style scoped>\n",
       "    .dataframe tbody tr th:only-of-type {\n",
       "        vertical-align: middle;\n",
       "    }\n",
       "\n",
       "    .dataframe tbody tr th {\n",
       "        vertical-align: top;\n",
       "    }\n",
       "\n",
       "    .dataframe thead th {\n",
       "        text-align: right;\n",
       "    }\n",
       "</style>\n",
       "<table border=\"1\" class=\"dataframe\">\n",
       "  <thead>\n",
       "    <tr style=\"text-align: right;\">\n",
       "      <th></th>\n",
       "      <th>medical_specialty</th>\n",
       "      <th>transcription</th>\n",
       "    </tr>\n",
       "  </thead>\n",
       "  <tbody>\n",
       "    <tr>\n",
       "      <th>0</th>\n",
       "      <td>Neurology</td>\n",
       "      <td>PROCEDURE:,  A 21-channel digital electroencep...</td>\n",
       "    </tr>\n",
       "    <tr>\n",
       "      <th>1</th>\n",
       "      <td>Neurology</td>\n",
       "      <td>REASON FOR VISIT:,  Postoperative visit for cr...</td>\n",
       "    </tr>\n",
       "    <tr>\n",
       "      <th>2</th>\n",
       "      <td>Radiology</td>\n",
       "      <td>EXAM:,  Nuclear medicine lymphatic scan.,REASO...</td>\n",
       "    </tr>\n",
       "    <tr>\n",
       "      <th>3</th>\n",
       "      <td>Neurology</td>\n",
       "      <td>HISTORY OF PRESENT ILLNESS: , The patient is a...</td>\n",
       "    </tr>\n",
       "    <tr>\n",
       "      <th>4</th>\n",
       "      <td>Radiology</td>\n",
       "      <td>EXAM:,MRI LEFT SHOULDER,CLINICAL:,This is a 51...</td>\n",
       "    </tr>\n",
       "  </tbody>\n",
       "</table>\n",
       "</div>"
      ],
      "text/plain": [
       "  medical_specialty                                      transcription\n",
       "0         Neurology  PROCEDURE:,  A 21-channel digital electroencep...\n",
       "1         Neurology  REASON FOR VISIT:,  Postoperative visit for cr...\n",
       "2         Radiology  EXAM:,  Nuclear medicine lymphatic scan.,REASO...\n",
       "3         Neurology  HISTORY OF PRESENT ILLNESS: , The patient is a...\n",
       "4         Radiology  EXAM:,MRI LEFT SHOULDER,CLINICAL:,This is a 51..."
      ]
     },
     "execution_count": 44,
     "metadata": {},
     "output_type": "execute_result"
    }
   ],
   "source": [
    "df = pd.read_csv(train_csv_path)\n",
    "print(df.shape)\n",
    "df.drop(columns=['Unnamed: 0'], inplace=True)\n",
    "df.head()"
   ]
  },
  {
   "attachments": {},
   "cell_type": "markdown",
   "metadata": {},
   "source": [
    "Back translation "
   ]
  },
  {
   "cell_type": "code",
   "execution_count": null,
   "metadata": {},
   "outputs": [],
   "source": [
    "import nlpaug.augmenter.word as naw\n",
    "\n",
    "bt_aug = naw.BackTranslationAug(\n",
    "    from_model_name='facebook/wmt19-en-de',\n",
    "    to_model_name='facebook/wmt19-de-en'\n",
    ")\n",
    "bt_aug.augment(df['transcription'][0])"
   ]
  },
  {
   "attachments": {},
   "cell_type": "markdown",
   "metadata": {},
   "source": [
    "Contextual word embedding"
   ]
  },
  {
   "cell_type": "code",
   "execution_count": null,
   "metadata": {},
   "outputs": [],
   "source": [
    "cw_aug = naw.ContextualWordEmbsAug(\n",
    "    model_path='bert-base-uncased', action=\"insert\"\n",
    ")\n",
    "print(\"Original: \" + df['transcription'][0]) \n",
    "aug_text = cw_aug.augment(df['transcription'][0])\n",
    "print(\"Augmented Text: \" + aug_text)"
   ]
  },
  {
   "attachments": {},
   "cell_type": "markdown",
   "metadata": {},
   "source": [
    "Word embedding augmentation"
   ]
  },
  {
   "cell_type": "code",
   "execution_count": null,
   "metadata": {},
   "outputs": [],
   "source": [
    "w2v_aug = naw.WordEmbsAug(\n",
    "    model_type='word2vec', model_path='GoogleNews-vectors-negative300.bin', action=\"substitute\"\n",
    ")\n",
    "print(\"Original: \" + df['transcription'][0])\n",
    "aug_text = w2v_aug.augment(df['transcription'][0])\n",
    "print(\"Augmented Text: \" + aug_text)"
   ]
  },
  {
   "attachments": {},
   "cell_type": "markdown",
   "metadata": {},
   "source": [
    "Synonym augmentation"
   ]
  },
  {
   "cell_type": "code",
   "execution_count": 66,
   "metadata": {},
   "outputs": [
    {
     "name": "stdout",
     "output_type": "stream",
     "text": [
      "Original: REASON FOR VISIT:,  Postoperative visit for craniopharyngioma.,HISTORY OF PRESENT ILLNESS:,  Briefly, a 16-year-old right-handed boy who is in eleventh grade, who presents with some blurred vision and visual acuity difficulties, was found to have a suprasellar tumor.  He was brought to the operating room on 01/04/07, underwent a transsphenoidal resection of tumor.  Histology returned as craniopharyngioma.  There is some residual disease; however, the visual apparatus was decompressed.  According to him, he is doing well, back at school without any difficulties.  He has some occasional headaches and tinnitus, but his vision is much improved.,MEDICATIONS: , Synthroid 100 mcg per day.,FINDINGS: , On exam, he is awake, alert and oriented x 3.  Pupils are equal and reactive.  EOMs are full.  His visual acuity is 20/25 in the right (improved from 20/200) and the left is 20/200 improved from 20/400.  He has a bitemporal hemianopsia, which is significantly improved and wider.  His motor is 5 out of 5.  There are no focal motor or sensory deficits.  The abdominal incision is well healed.  There is no evidence of erythema or collection.  The lumbar drain was also well healed.,The postoperative MRI demonstrates small residual disease.,Histology returned as craniopharyngioma.,ASSESSMENT: , Postoperative visit for craniopharyngioma with residual disease.,PLANS: , I have recommended that he call.  I discussed the options with our radiation oncologist, Dr. X. They will schedule the appointment to see him.  In addition, he probably will need an MRI prior to any treatment, to follow the residual disease.\n",
      "Augmented Text: REASON FOR VISIT: , Postoperative visit for craniopharyngioma. , HISTORY OF PRESENT ILLNESS: , Briefly, a 16 - year - old right - handed boy who is in eleventh grade, who presents with some blurred sight and visual acuity difficulties, was found to have a suprasellar tumor. He was brought to the operating room on 01 / 04 / 07, underwent a transsphenoidal resection of tumor. Histology returned as craniopharyngioma. There is some residual disease; however, the visual apparatus was decompressed. According to him, he is doing well, back at school without any difficulties. He has some occasional headaches and tinnitus, but his vision is much improved. , MEDICATIONS: , Synthroid 100 mcg per day. , FINDINGS: , On exam, he is awake, alert and oriented x 3. Pupils are adequate and reactive. EOMs are full. His visual visual acuity is 20 / 25 in the right (improved from 20 / 200) and the left is 20 / 200 improved from 20 / 400. He has a bitemporal hemianopsia, which is significantly improved and wider. His motor is 5 out of 5. In that respect are no focal motor or sensory shortfall. The abdominal incision is well healed. There is no evidence of erythema or collection. The lumbar drain was also well healed. , The postoperative MRI demonstrates small residual disease. , Histology returned as craniopharyngioma. , ASSESSMENT: , Postoperative visit for craniopharyngioma with residual disease. , PLANS: , I have recommended that he call. I discussed the options with our radiation oncologist, Dr. X. They testament schedule the appointment to see him. In addition, he probably will need an MRI prior to any treatment, to follow the residual disease.\n"
     ]
    }
   ],
   "source": [
    "syn_aug = naw.SynonymAug(aug_src='wordnet')\n",
    "print(\"Original: \" + df['transcription'][1])\n",
    "aug_text = syn_aug.augment(df['transcription'][1])\n",
    "print(\"Augmented Text: \" + aug_text[0])"
   ]
  },
  {
   "cell_type": "code",
   "execution_count": null,
   "metadata": {},
   "outputs": [],
   "source": [
    "newdf = pd.DataFrame({'transcription': aug_text})\n",
    "newdf['medical_specialty'] = df['medical_specialty']\n",
    "print(newdf.head())"
   ]
  }
 ],
 "metadata": {
  "kernelspec": {
   "display_name": ".venv",
   "language": "python",
   "name": "python3"
  },
  "language_info": {
   "codemirror_mode": {
    "name": "ipython",
    "version": 3
   },
   "file_extension": ".py",
   "mimetype": "text/x-python",
   "name": "python",
   "nbconvert_exporter": "python",
   "pygments_lexer": "ipython3",
   "version": "3.10.10"
  },
  "orig_nbformat": 4
 },
 "nbformat": 4,
 "nbformat_minor": 2
}
