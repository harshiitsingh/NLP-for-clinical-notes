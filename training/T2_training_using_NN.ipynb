{
 "cells": [
  {
   "cell_type": "code",
   "execution_count": 1,
   "id": "b0773348",
   "metadata": {},
   "outputs": [],
   "source": [
    "import pandas as pd\n",
    "import numpy as np\n",
    "import matplotlib.pyplot as plt\n",
    "\n",
    "\n",
    "\n",
    "# from keras.utils import to_categorical\n",
    "from tensorflow.keras.utils import to_categorical\n",
    "from keras.preprocessing.text import Tokenizer\n",
    "from keras.preprocessing.sequence import pad_sequences\n",
    "from keras.models import Sequential\n",
    "from keras.layers import Embedding, SpatialDropout1D, LSTM, Dense, Flatten, Dropout\n",
    "from sklearn.model_selection import train_test_split"
   ]
  },
  {
   "cell_type": "code",
   "execution_count": 54,
   "id": "23728b02",
   "metadata": {},
   "outputs": [
    {
     "data": {
      "text/html": [
       "<div>\n",
       "<style scoped>\n",
       "    .dataframe tbody tr th:only-of-type {\n",
       "        vertical-align: middle;\n",
       "    }\n",
       "\n",
       "    .dataframe tbody tr th {\n",
       "        vertical-align: top;\n",
       "    }\n",
       "\n",
       "    .dataframe thead th {\n",
       "        text-align: right;\n",
       "    }\n",
       "</style>\n",
       "<table border=\"1\" class=\"dataframe\">\n",
       "  <thead>\n",
       "    <tr style=\"text-align: right;\">\n",
       "      <th></th>\n",
       "      <th>medical_specialty</th>\n",
       "      <th>transcription</th>\n",
       "    </tr>\n",
       "  </thead>\n",
       "  <tbody>\n",
       "    <tr>\n",
       "      <th>0</th>\n",
       "      <td>Neurology</td>\n",
       "      <td>CC:, Confusion and slurred speech.,HX , (prima...</td>\n",
       "    </tr>\n",
       "    <tr>\n",
       "      <th>1</th>\n",
       "      <td>Urology</td>\n",
       "      <td>PROCEDURE: , Elective male sterilization via b...</td>\n",
       "    </tr>\n",
       "    <tr>\n",
       "      <th>2</th>\n",
       "      <td>Urology</td>\n",
       "      <td>INDICATION:,  Prostate Cancer.,TECHNIQUE:,  3....</td>\n",
       "    </tr>\n",
       "    <tr>\n",
       "      <th>3</th>\n",
       "      <td>Urology</td>\n",
       "      <td>DESCRIPTION:,  The patient was placed in the s...</td>\n",
       "    </tr>\n",
       "    <tr>\n",
       "      <th>4</th>\n",
       "      <td>Urology</td>\n",
       "      <td>PREOPERATIVE DIAGNOSIS: , Voluntary sterility....</td>\n",
       "    </tr>\n",
       "  </tbody>\n",
       "</table>\n",
       "</div>"
      ],
      "text/plain": [
       "  medical_specialty                                      transcription\n",
       "0         Neurology  CC:, Confusion and slurred speech.,HX , (prima...\n",
       "1           Urology  PROCEDURE: , Elective male sterilization via b...\n",
       "2           Urology  INDICATION:,  Prostate Cancer.,TECHNIQUE:,  3....\n",
       "3           Urology  DESCRIPTION:,  The patient was placed in the s...\n",
       "4           Urology  PREOPERATIVE DIAGNOSIS: , Voluntary sterility...."
      ]
     },
     "execution_count": 54,
     "metadata": {},
     "output_type": "execute_result"
    }
   ],
   "source": [
    "df = pd.read_csv(r\"C:\\Users\\Harshit Singh\\Music\\DSAI\\mtsamples_final.csv\", encoding= 'unicode_escape')\n",
    "df.head()"
   ]
  },
  {
   "cell_type": "code",
   "execution_count": 55,
   "id": "536cc623",
   "metadata": {},
   "outputs": [
    {
     "data": {
      "text/plain": [
       "(2358, 2)"
      ]
     },
     "execution_count": 55,
     "metadata": {},
     "output_type": "execute_result"
    }
   ],
   "source": [
    "df.shape"
   ]
  },
  {
   "cell_type": "code",
   "execution_count": 56,
   "id": "72bd9404",
   "metadata": {},
   "outputs": [
    {
     "name": "stdout",
     "output_type": "stream",
     "text": [
      "<class 'pandas.core.frame.DataFrame'>\n",
      "RangeIndex: 2358 entries, 0 to 2357\n",
      "Data columns (total 2 columns):\n",
      " #   Column             Non-Null Count  Dtype \n",
      "---  ------             --------------  ----- \n",
      " 0   medical_specialty  2358 non-null   object\n",
      " 1   transcription      2342 non-null   object\n",
      "dtypes: object(2)\n",
      "memory usage: 37.0+ KB\n"
     ]
    }
   ],
   "source": [
    "df.info()"
   ]
  },
  {
   "cell_type": "code",
   "execution_count": 57,
   "id": "4c243402",
   "metadata": {},
   "outputs": [
    {
     "data": {
      "text/plain": [
       "Index(['medical_specialty', 'transcription'], dtype='object')"
      ]
     },
     "execution_count": 57,
     "metadata": {},
     "output_type": "execute_result"
    }
   ],
   "source": [
    "df.columns"
   ]
  },
  {
   "cell_type": "code",
   "execution_count": 58,
   "id": "cf86feac",
   "metadata": {},
   "outputs": [
    {
     "data": {
      "text/plain": [
       "array([' Neurology', ' Urology', ' Radiology', ' Orthopedic',\n",
       "       ' Gastroenterology', 'Gastroenterology', 'Neurology', 'Orthopedic',\n",
       "       'Radiology', 'Urology'], dtype=object)"
      ]
     },
     "execution_count": 58,
     "metadata": {},
     "output_type": "execute_result"
    }
   ],
   "source": [
    "df['medical_specialty'].unique()"
   ]
  },
  {
   "cell_type": "code",
   "execution_count": 59,
   "id": "bbcce2be",
   "metadata": {},
   "outputs": [],
   "source": [
    "# Remove whitespace from the 'medical_specialty' column\n",
    "df['medical_specialty'] = df['medical_specialty'].str.strip()"
   ]
  },
  {
   "cell_type": "code",
   "execution_count": 60,
   "id": "5dcf71b5",
   "metadata": {},
   "outputs": [
    {
     "data": {
      "text/plain": [
       "array(['Neurology', 'Urology', 'Radiology', 'Orthopedic',\n",
       "       'Gastroenterology'], dtype=object)"
      ]
     },
     "execution_count": 60,
     "metadata": {},
     "output_type": "execute_result"
    }
   ],
   "source": [
    "# Verify the unique values after removing whitespace\n",
    "df['medical_specialty'].unique()"
   ]
  },
  {
   "cell_type": "code",
   "execution_count": 61,
   "id": "7e72195c",
   "metadata": {},
   "outputs": [
    {
     "data": {
      "text/plain": [
       "Orthopedic          659\n",
       "Radiology           501\n",
       "Gastroenterology    434\n",
       "Neurology           416\n",
       "Urology             348\n",
       "Name: medical_specialty, dtype: int64"
      ]
     },
     "execution_count": 61,
     "metadata": {},
     "output_type": "execute_result"
    }
   ],
   "source": [
    "df['medical_specialty'].value_counts()"
   ]
  },
  {
   "cell_type": "code",
   "execution_count": 62,
   "id": "de4d9901",
   "metadata": {},
   "outputs": [
    {
     "data": {
      "text/plain": [
       "<AxesSubplot: >"
      ]
     },
     "execution_count": 62,
     "metadata": {},
     "output_type": "execute_result"
    },
    {
     "data": {
      "image/png": "[encoded data removed]",
      "text/plain": [
       "<Figure size 640x480 with 1 Axes>"
      ]
     },
     "metadata": {},
     "output_type": "display_data"
    }
   ],
   "source": [
    "df['medical_specialty'].value_counts().plot(kind='bar')"
   ]
  },
  {
   "cell_type": "code",
   "execution_count": 63,
   "id": "416928d7",
   "metadata": {},
   "outputs": [
    {
     "data": {
      "text/plain": [
       "medical_specialty     0\n",
       "transcription        16\n",
       "dtype: int64"
      ]
     },
     "execution_count": 63,
     "metadata": {},
     "output_type": "execute_result"
    }
   ],
   "source": [
    "df.isna().sum()"
   ]
  },
  {
   "cell_type": "code",
   "execution_count": 64,
   "id": "e5ce7857",
   "metadata": {},
   "outputs": [
    {
     "data": {
      "text/plain": [
       "medical_specialty    0\n",
       "transcription        0\n",
       "dtype: int64"
      ]
     },
     "execution_count": 64,
     "metadata": {},
     "output_type": "execute_result"
    }
   ],
   "source": [
    "# Drop any rows with missing data\n",
    "\n",
    "# new_df = df.dropna()\n",
    "# new_df.isna().sum()\n",
    "\n",
    "df.dropna(inplace=True)\n",
    "df.isna().sum()"
   ]
  },
  {
   "cell_type": "code",
   "execution_count": 22,
   "id": "78d81fff",
   "metadata": {
    "scrolled": false
   },
   "outputs": [],
   "source": [
    "# df['transcription'].tolist()"
   ]
  },
  {
   "cell_type": "code",
   "execution_count": 23,
   "id": "e9f9b23d",
   "metadata": {
    "scrolled": true
   },
   "outputs": [],
   "source": [
    "# df.groupby('medical_speciality').describe()"
   ]
  },
  {
   "cell_type": "code",
   "execution_count": 65,
   "id": "4b0d7aaf",
   "metadata": {},
   "outputs": [
    {
     "name": "stderr",
     "output_type": "stream",
     "text": [
      "[nltk_data] Downloading package stopwords to C:\\Users\\Harshit\n",
      "[nltk_data]     Singh\\AppData\\Roaming\\nltk_data...\n",
      "[nltk_data]   Package stopwords is already up-to-date!\n"
     ]
    }
   ],
   "source": [
    "# Preprocess the text data\n",
    "import re\n",
    "import string\n",
    "import nltk\n",
    "nltk.download('stopwords')\n",
    "from nltk.corpus import stopwords\n",
    "from nltk.stem import WordNetLemmatizer\n",
    "\n",
    "lemmatizer = WordNetLemmatizer()\n",
    "stop_words = set(stopwords.words('english'))"
   ]
  },
  {
   "cell_type": "code",
   "execution_count": 66,
   "id": "98b635d0",
   "metadata": {},
   "outputs": [],
   "source": [
    "def preprocess_text(text):\n",
    "    # Convert text to lowercase\n",
    "    text = text.lower()\n",
    "    \n",
    "    # Remove numbers\n",
    "    text = re.sub(r'\\d+', '', text)\n",
    "    \n",
    "    # Remove punctuation\n",
    "    text = text.translate(str.maketrans('', '', string.punctuation))\n",
    "    \n",
    "    # Tokenize text\n",
    "    words = text.split()\n",
    "    \n",
    "    # Remove stop words\n",
    "    words = [word for word in words if word not in stop_words]\n",
    "    \n",
    "    # Lemmatize words\n",
    "    words = [lemmatizer.lemmatize(word) for word in words]\n",
    "    \n",
    "    # Rejoin words\n",
    "    text = ' '.join(words)\n",
    "    \n",
    "    return text"
   ]
  },
  {
   "cell_type": "code",
   "execution_count": 67,
   "id": "c4ac9afa",
   "metadata": {},
   "outputs": [],
   "source": [
    "df['transcription'] = df['transcription'].apply(preprocess_text)"
   ]
  },
  {
   "cell_type": "code",
   "execution_count": 27,
   "id": "dd2fe570",
   "metadata": {},
   "outputs": [],
   "source": [
    "# Remove whitespaces from the 'medical_specialty' column\n",
    "df['medical_specialty'] = df['medical_specialty'].str.replace(' ', '')"
   ]
  },
  {
   "cell_type": "code",
   "execution_count": 28,
   "id": "e82668c1",
   "metadata": {},
   "outputs": [],
   "source": [
    "# # Convert 'medical_specialty' into a categorical variable with 5 labels\n",
    "# df['medical_specialty'] = pd.Categorical(df['medical_specialty'], \n",
    "#                                           categories=['Neurology', 'Urology', 'Radiology', 'Orthopedic','Gastroenterology'], \n",
    "#                                           ordered=True)\n",
    "# print(df.head(5))"
   ]
  },
  {
   "cell_type": "code",
   "execution_count": 69,
   "id": "11067119",
   "metadata": {},
   "outputs": [],
   "source": [
    "# Create a dictionary that maps each class label to a unique integer\n",
    "label_map = {'Neurology': 0, 'Urology': 1, 'Radiology': 2, 'Orthopedic': 3, 'Gastroenterology': 4}\n",
    "\n",
    "# Convert the class labels to integers using the label map\n",
    "df['medical_specialty'] = df['medical_specialty'].apply(lambda x: label_map[x])"
   ]
  },
  {
   "cell_type": "code",
   "execution_count": 70,
   "id": "2d3f36f0",
   "metadata": {},
   "outputs": [],
   "source": [
    "# Split the data into training and testing sets\n",
    "X = df['transcription'].values\n",
    "y = df['medical_specialty'].values\n",
    "y = to_categorical(y, num_classes=5) # Convert the labels to one-hot vectors"
   ]
  },
  {
   "cell_type": "code",
   "execution_count": 31,
   "id": "55cf2218",
   "metadata": {},
   "outputs": [],
   "source": [
    "# from sklearn.preprocessing import OneHotEncoder\n",
    "# import pandas as pd\n",
    "\n",
    "# # Define the 5 labels of classes\n",
    "# classes = ['Neurology', 'Urology', 'Radiology', 'Orthopedic','Gastroenterology']\n",
    "\n",
    "# # Create an instance of the OneHotEncoder class\n",
    "# encoder = OneHotEncoder(categories=[classes])\n",
    "\n",
    "# # Fit and transform the 'medical_specialty' column into one-hot encoded variables\n",
    "# y_one_hot = encoder.fit_transform(y.reshape(-1, 1)).toarray()\n"
   ]
  },
  {
   "cell_type": "code",
   "execution_count": 71,
   "id": "021758cc",
   "metadata": {},
   "outputs": [],
   "source": [
    "X_train, X_test, y_train, y_test = train_test_split(X, y, test_size=0.2, random_state=42)"
   ]
  },
  {
   "cell_type": "code",
   "execution_count": 72,
   "id": "91c5228b",
   "metadata": {},
   "outputs": [
    {
     "name": "stdout",
     "output_type": "stream",
     "text": [
      "X_train shape: (1873,), y_train shape: (1873, 5)\n",
      "X_test shape: (469,), y_test shape: (469, 5)\n"
     ]
    }
   ],
   "source": [
    "# Print the shape of the training and testing sets\n",
    "print(f\"X_train shape: {X_train.shape}, y_train shape: {y_train.shape}\")\n",
    "print(f\"X_test shape: {X_test.shape}, y_test shape: {y_test.shape}\")"
   ]
  },
  {
   "cell_type": "code",
   "execution_count": 73,
   "id": "0a230106",
   "metadata": {},
   "outputs": [],
   "source": [
    "# Tokenize the text data\n",
    "MAX_NB_WORDS = 5000 # Maximum number of words to keep based on frequency\n",
    "MAX_SEQUENCE_LENGTH = 100 # Maximum length of input sequence\n",
    "tokenizer = Tokenizer(num_words=MAX_NB_WORDS)\n",
    "tokenizer.fit_on_texts(X_train)\n",
    "X_train = tokenizer.texts_to_sequences(X_train)\n",
    "X_test = tokenizer.texts_to_sequences(X_test)\n",
    "vocab_size = len(tokenizer.word_index) + 1 # Total number of unique words in the corpus"
   ]
  },
  {
   "cell_type": "code",
   "execution_count": 74,
   "id": "4eed5670",
   "metadata": {},
   "outputs": [],
   "source": [
    "# Pad the sequences to ensure consistent length\n",
    "X_train = pad_sequences(X_train, maxlen=MAX_SEQUENCE_LENGTH)\n",
    "X_test = pad_sequences(X_test, maxlen=MAX_SEQUENCE_LENGTH)"
   ]
  },
  {
   "cell_type": "code",
   "execution_count": 75,
   "id": "5378b277",
   "metadata": {},
   "outputs": [],
   "source": [
    "# Define the neural network architecture\n",
    "EMBEDDING_DIM = 100\n",
    "NUM_CLASSES = 5\n",
    "model = Sequential()\n",
    "model.add(Embedding(input_dim=vocab_size, output_dim=EMBEDDING_DIM, input_length=MAX_SEQUENCE_LENGTH))\n",
    "model.add(SpatialDropout1D(0.2))\n",
    "model.add(LSTM(128, dropout=0.2, recurrent_dropout=0.2, return_sequences=True))\n",
    "model.add(LSTM(64, dropout=0.2, recurrent_dropout=0.2))\n",
    "model.add(Flatten())\n",
    "model.add(Dense(64, activation='relu'))\n",
    "# Add dropout layer\n",
    "model.add(Dropout(0.5))\n",
    "model.add(Dense(32, activation='relu'))\n",
    "# Add output layer\n",
    "model.add(Dense(NUM_CLASSES, activation='softmax'))"
   ]
  },
  {
   "cell_type": "code",
   "execution_count": 76,
   "id": "e9494595",
   "metadata": {},
   "outputs": [],
   "source": [
    "# Compile the model\n",
    "model.compile(loss='categorical_crossentropy', optimizer='adam', metrics=['accuracy']) # 'adamax'"
   ]
  },
  {
   "cell_type": "code",
   "execution_count": 38,
   "id": "5d4d4a39",
   "metadata": {},
   "outputs": [],
   "source": [
    "from keras.callbacks import EarlyStopping"
   ]
  },
  {
   "cell_type": "code",
   "execution_count": 77,
   "id": "6a310a0e",
   "metadata": {},
   "outputs": [
    {
     "name": "stdout",
     "output_type": "stream",
     "text": [
      "Epoch 1/15\n",
      "59/59 [==============================] - 15s 202ms/step - loss: 1.4929 - accuracy: 0.3385 - val_loss: 1.3128 - val_accuracy: 0.4371\n",
      "Epoch 2/15\n",
      "59/59 [==============================] - 12s 195ms/step - loss: 1.1239 - accuracy: 0.5120 - val_loss: 1.0094 - val_accuracy: 0.5672\n",
      "Epoch 3/15\n",
      "59/59 [==============================] - 11s 185ms/step - loss: 0.8065 - accuracy: 0.6642 - val_loss: 0.9346 - val_accuracy: 0.5693\n",
      "Epoch 4/15\n",
      "59/59 [==============================] - 11s 192ms/step - loss: 0.6939 - accuracy: 0.6983 - val_loss: 0.8436 - val_accuracy: 0.6503\n",
      "Epoch 5/15\n",
      "59/59 [==============================] - 12s 197ms/step - loss: 0.5974 - accuracy: 0.7694 - val_loss: 0.9536 - val_accuracy: 0.6226\n",
      "Epoch 6/15\n",
      "59/59 [==============================] - 12s 199ms/step - loss: 0.5400 - accuracy: 0.7848 - val_loss: 0.7513 - val_accuracy: 0.6631\n",
      "Epoch 7/15\n",
      "59/59 [==============================] - 12s 201ms/step - loss: 0.4619 - accuracy: 0.8292 - val_loss: 0.7995 - val_accuracy: 0.6716\n",
      "Epoch 8/15\n",
      "59/59 [==============================] - 12s 203ms/step - loss: 0.3985 - accuracy: 0.8409 - val_loss: 0.8914 - val_accuracy: 0.6588\n",
      "Epoch 9/15\n",
      "59/59 [==============================] - 12s 204ms/step - loss: 0.3912 - accuracy: 0.8500 - val_loss: 0.8038 - val_accuracy: 0.7015\n",
      "Epoch 10/15\n",
      "59/59 [==============================] - 12s 205ms/step - loss: 0.3688 - accuracy: 0.8505 - val_loss: 0.8479 - val_accuracy: 0.7015\n",
      "Epoch 11/15\n",
      "59/59 [==============================] - 12s 208ms/step - loss: 0.3684 - accuracy: 0.8548 - val_loss: 1.0553 - val_accuracy: 0.6546\n",
      "Epoch 12/15\n",
      "59/59 [==============================] - 12s 210ms/step - loss: 0.3414 - accuracy: 0.8558 - val_loss: 0.8636 - val_accuracy: 0.6738\n",
      "Epoch 13/15\n",
      "59/59 [==============================] - 12s 207ms/step - loss: 0.3082 - accuracy: 0.8660 - val_loss: 0.8646 - val_accuracy: 0.6759\n",
      "Epoch 14/15\n",
      "59/59 [==============================] - 12s 208ms/step - loss: 0.3870 - accuracy: 0.8452 - val_loss: 0.9265 - val_accuracy: 0.6802\n",
      "Epoch 15/15\n",
      "59/59 [==============================] - 12s 206ms/step - loss: 0.3198 - accuracy: 0.8644 - val_loss: 0.9946 - val_accuracy: 0.6823\n"
     ]
    }
   ],
   "source": [
    "# Train the model\n",
    "NUM_EPOCHS = 15\n",
    "BATCH_SIZE = 32\n",
    "history = model.fit(X_train, y_train, epochs=NUM_EPOCHS, batch_size=BATCH_SIZE, validation_data=(X_test, y_test))"
   ]
  },
  {
   "cell_type": "code",
   "execution_count": 78,
   "id": "dc7c7313",
   "metadata": {},
   "outputs": [
    {
     "name": "stdout",
     "output_type": "stream",
     "text": [
      "15/15 [==============================] - 0s 28ms/step - loss: 0.9946 - accuracy: 0.6823\n",
      "Test accuracy: 0.6823027729988098\n"
     ]
    }
   ],
   "source": [
    "# Evaluate the model\n",
    "score, acc = model.evaluate(X_test, y_test, batch_size=BATCH_SIZE)\n",
    "print(\"Test accuracy:\", acc)"
   ]
  },
  {
   "cell_type": "code",
   "execution_count": 79,
   "id": "c8156a10",
   "metadata": {},
   "outputs": [
    {
     "name": "stdout",
     "output_type": "stream",
     "text": [
      "The predicted class for the new text data is: Urology\n"
     ]
    }
   ],
   "source": [
    "# Define the new text data\n",
    "new_text = \"This is a 34-year-old African-American male who is known to our service with a history of recurrent priapism.  The patient presented with priapism x48 hours on this visit.  The patient underwent corporal aspiration and Winter's shunt both of which failed and then subsequently underwent _______ procedure.  The patient's priapism did return following this and he was scheduled for cavernosaphenous shunt.,PROCEDURE:,  Informed written consent was obtained.  The patient was taken to the operative suite and administered anesthetic.  The patient was sterilely prepped and draped in the supine fashion.  A #15 French Foley catheter was inserted under sterile conditions.  Incision was made in the left base of the penile shaft on the lateral aspect, approximately 3 cm in length.  Tissue was dissected down to the level of the corpora cavernosum and corpora spongiosum.  The fascia was incised in elliptical fashion for approximately 2 cm\"\n",
    "# Tokenize the new text data\n",
    "new_text = [new_text]\n",
    "new_text = tokenizer.texts_to_sequences(new_text)\n",
    "new_text = pad_sequences(new_text, maxlen=MAX_SEQUENCE_LENGTH)\n",
    "\n",
    "# Predict the class of the new text data\n",
    "pred = model.predict(new_text)\n",
    "class_labels = ['Neurology', 'Urology', 'Radiology', 'Orthopedic','Gastroenterology']\n",
    "predicted_class = class_labels[np.argmax(pred)]\n",
    "\n",
    "print(\"The predicted class for the new text data is:\", predicted_class)"
   ]
  },
  {
   "cell_type": "code",
   "execution_count": 80,
   "id": "7182a1eb",
   "metadata": {},
   "outputs": [],
   "source": [
    "model.save(\"clinical_notes.h5\")"
   ]
  },
  {
   "cell_type": "code",
   "execution_count": null,
   "id": "57702f8d",
   "metadata": {},
   "outputs": [],
   "source": []
  }
 ],
 "metadata": {
  "kernelspec": {
   "display_name": "Python 3 (ipykernel)",
   "language": "python",
   "name": "python3"
  },
  "language_info": {
   "codemirror_mode": {
    "name": "ipython",
    "version": 3
   },
   "file_extension": ".py",
   "mimetype": "text/x-python",
   "name": "python",
   "nbconvert_exporter": "python",
   "pygments_lexer": "ipython3",
   "version": "3.8.11"
  }
 },
 "nbformat": 4,
 "nbformat_minor": 5
}
